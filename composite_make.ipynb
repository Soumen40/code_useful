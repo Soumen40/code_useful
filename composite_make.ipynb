{
 "cells": [
  {
   "cell_type": "code",
   "execution_count": 1,
   "id": "26c7b9ce",
   "metadata": {},
   "outputs": [],
   "source": [
    "from pymatgen.io.vasp import Poscar\n",
    "from pymatgen.core import Lattice, Molecule, Structure\n",
    "from copy import deepcopy\n"
   ]
  },
  {
   "cell_type": "code",
   "execution_count": 63,
   "id": "911fb7b7-487e-4515-8860-80592dc36e79",
   "metadata": {},
   "outputs": [
    {
     "name": "stdout",
     "output_type": "stream",
     "text": [
      "[1.299e-06, 2.892090573, 9.648933974] \n",
      " [1.299e-06, 2.892090573, 9.648933974]\n"
     ]
    }
   ],
   "source": [
    "with open(\"POSCAR_hbn\",'r') as f1:\n",
    "    p=[]\n",
    "    for line in f1:\n",
    "        p.append(line)\n",
    "#print(p)\n",
    "p1=deepcopy(p)\n",
    "#print(\"\\np1\",p1)\n",
    "del p1[0:8]\n",
    "#print(\"\\np1\",p1)\n",
    "s_mono = []\n",
    "for j in p1:\n",
    "    d=[]\n",
    "    j = j.split()\n",
    "    #del j[3]\n",
    "    \n",
    "    for i in j:\n",
    "        d.append(float(i))\n",
    "    s_mono.append(d)\n",
    "    \n",
    "#print(s_mono, len(s_mono))\n",
    "s1 = deepcopy(s_mono)\n",
    "\n",
    "print(s1[1],'\\n',s_mono[1])\n",
    "for i in range(len(s_mono)):\n",
    "    # s[i][0]+=mean[0]-1\n",
    "    # s[i][1]+=mean[1]\n",
    "    s_mono[i][2]+= 6.59\n",
    "    \n",
    "    \n",
    "#print(s1[:11],'\\n',s_mono[:11])    \n",
    "spec =  ['B' for j in range(72)] + ['N' for j in range(72)] + ['B' for j in range(72)] + ['N' for j in range(72)] #+ ['C' for j in range(22)] + ['O' for j in range(4)] + ['H' for j in range(26)]\n",
    "coor =    s1 + s_mono\n",
    "bn = coor\n",
    "\n",
    "lat = [[15.0277433395,0,0],[-7.5138713673,13.0144109718,0],[0,0,25.6454772949]]\n",
    "#spec = chem_sym_p\n",
    "# coor = coords_p\n",
    "stru = Structure(lat,spec,coor,coords_are_cartesian = True)\n",
    "poscar = Poscar(stru)\n",
    "#print(\"poscar2\",poscar)\n",
    "#Poscar.write_file(poscar,'POSCAR_hbn2')\n",
    "#coor"
   ]
  },
  {
   "cell_type": "code",
   "execution_count": 67,
   "id": "f49ae816",
   "metadata": {},
   "outputs": [],
   "source": [
    "\n",
    "\"\"\"  Main for heterostructuring \"\"\"\n",
    "\n",
    "with open(\"CONTCAR_1\",'r') as f1:\n",
    "    p=[]\n",
    "    for line in f1:\n",
    "        p.append(line)\n",
    "#print(p)\n",
    "p1=deepcopy(p)\n",
    "#print(\"\\np1\",p1)\n",
    "del p1[0:8]\n",
    "#print(\"\\np1\",p1)\n",
    "s = []\n",
    "for j in p1:\n",
    "    d=[]\n",
    "    j = j.split()\n",
    "    #del j[3]\n",
    "    \n",
    "    for i in j:\n",
    "        d.append(float(i))\n",
    "    s.append(d)\n",
    "#print(s)\n",
    "\n",
    "\n",
    "# m1 = [7.09125 ,  5.25463,   7.13806]\n",
    "# m2 = [8.99050 ,  4.75239 ,  4.37682]\n",
    "\n",
    "\"\"\"\n",
    " First make the top structure (NPs, molecular fragment, polymer etc) coordinate with respect to zero arond their centre of mass\n",
    " \n",
    "\"\"\"\n",
    "m1 = [4.39960  , 5.67271  , 6.86188]\n",
    "m2 = [7.90818  , 4.25528 ,  4.20790]\n",
    "\n",
    "l = [(m1[i]+m2[j])/2 for i in range(len(m1)) for j in range(len(m2)) if i==j]\n",
    "\n",
    "# #print(mean)\n",
    "for i in range(len(s)):\n",
    "    s[i][0]+=-l[0]\n",
    "    s[i][1]+=-l[1]\n",
    "    s[i][2]+=-l[2]\n",
    "\n",
    "#print(\"all Coordinates:\",s)\n",
    "\n",
    "\"\"\"\n",
    " Adjust the coordinate of the top structure according to the middile (or suitable position) of the below layer\n",
    "\n",
    "\"\"\"\n",
    "\n",
    "d=[]\n",
    "L1 = [2.50462 ,  5.78418 , 19.53337]\n",
    "L2 = [3.75694 ,  5.06116  ,19.53596]\n",
    "\n",
    "\n",
    "mean = [(L1[i]+L2[j])/2 for i in range(len(L1)) for j in range(len(L2)) if i==j]\n",
    "\n",
    "#mean = [3.76772 ,  5.07569 ,  9.76658] #for mono_hBN\n",
    "\n",
    "#mean = [2.50462,   5.78418,  12.94337]  # for biL_hBN\n",
    "\n",
    "#mean = [ 2.46,14.25,11.99]\n",
    "\n",
    "for i in range(len(s)):\n",
    "    s[i][0]+=mean[0]-1\n",
    "    s[i][1]+=mean[1]\n",
    "    s[i][2]+=mean[2] + 4.5\n",
    "\n",
    "\n",
    "\n",
    "\n",
    "\n",
    "spec =  ['B' for j in range(72)] + ['N' for j in range(72)] + ['B' for j in range(72)] + ['N' for j in range(72)] + ['C' for j in range(22)] + ['O' for j in range(4)] + ['H' for j in range(26)]\n",
    "\n",
    "coor = bn + s\n",
    "\n",
    "lat = [[15.0277433395,0,0],[-7.5138713673,13.0144109718,0],[0,0,30.6454772949]]\n",
    "#spec = chem_sym_p\n",
    "# coor = coords_p\n",
    "stru = Structure(lat,spec,coor,coords_are_cartesian = True)\n",
    "poscar = Poscar(stru)\n",
    "# print(\"poscar2\",poscar)\n",
    "# Poscar.write_file(poscar,'POSCAR_4')"
   ]
  },
  {
   "cell_type": "code",
   "execution_count": 17,
   "id": "8f6f77fa",
   "metadata": {},
   "outputs": [
    {
     "name": "stdout",
     "output_type": "stream",
     "text": [
      "102.0\n"
     ]
    }
   ],
   "source": [
    "s = '102'\n",
    "i = float(s)\n",
    "print(i)"
   ]
  }
 ],
 "metadata": {
  "kernelspec": {
   "display_name": "Python 3 (ipykernel)",
   "language": "python",
   "name": "python3"
  },
  "language_info": {
   "codemirror_mode": {
    "name": "ipython",
    "version": 3
   },
   "file_extension": ".py",
   "mimetype": "text/x-python",
   "name": "python",
   "nbconvert_exporter": "python",
   "pygments_lexer": "ipython3",
   "version": "3.9.12"
  }
 },
 "nbformat": 4,
 "nbformat_minor": 5
}
